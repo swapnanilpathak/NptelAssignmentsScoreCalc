{
 "cells": [
  {
   "cell_type": "markdown",
   "metadata": {},
   "source": [
    "# NPTEL courses assignment score calculation and visualization\n",
    "The objective of this notebook is to calculate the total assignment scores of NPTEL(National Programme for technology enhanced learning) courses and visualize weak and strong areas based on the assignment score and the corresponding week contents were taught. We need to load the assignment scores along with the week number in the following format in a text file.\n",
    "\n",
    "WeekNo  AssignmentScore (Do not write this line)\n",
    "\n",
    "0 ,90\n",
    "\n",
    "1 ,88\n",
    "\n",
    "2 ,90\n",
    "\n",
    ". ...\n",
    "\n"
   ]
  },
  {
   "cell_type": "markdown",
   "metadata": {},
   "source": [
    "Now we will import all the required packages for calculation and analysis. We will work with numpy and matplotlib primarily"
   ]
  },
  {
   "cell_type": "code",
   "execution_count": 1,
   "metadata": {},
   "outputs": [],
   "source": [
    "%matplotlib inline\n",
    "import numpy as np\n",
    "import matplotlib.pyplot as plt"
   ]
  },
  {
   "cell_type": "markdown",
   "metadata": {},
   "source": [
    "Now we will load the information contained in the text file which is placed in the same directory along with this jupyter notebook"
   ]
  },
  {
   "cell_type": "code",
   "execution_count": 2,
   "metadata": {},
   "outputs": [],
   "source": [
    "assignments, scores = np.loadtxt('scores_dm.txt',unpack=True,delimiter=',')"
   ]
  },
  {
   "cell_type": "markdown",
   "metadata": {},
   "source": [
    "We need to remove the week 0 assignment or the dummy assignment as it does not adds to the final score"
   ]
  },
  {
   "cell_type": "code",
   "execution_count": 3,
   "metadata": {},
   "outputs": [],
   "source": [
    "assignments = np.delete(assignments,0)\n",
    "scores = np.delete(scores,0)"
   ]
  },
  {
   "cell_type": "markdown",
   "metadata": {},
   "source": [
    "No we need combine the assignments as well as the scores arrays together into a list of tuples for better viewing purpose"
   ]
  },
  {
   "cell_type": "code",
   "execution_count": 4,
   "metadata": {},
   "outputs": [],
   "source": [
    "data = list(zip(assignments.astype(int),scores))"
   ]
  },
  {
   "cell_type": "code",
   "execution_count": 5,
   "metadata": {},
   "outputs": [
    {
     "data": {
      "text/plain": [
       "[(1, 90.0),\n",
       " (2, 80.0),\n",
       " (3, 90.0),\n",
       " (4, 80.0),\n",
       " (5, 50.0),\n",
       " (6, 90.0),\n",
       " (7, 100.0),\n",
       " (8, 90.0),\n",
       " (9, 88.0),\n",
       " (10, 78.0),\n",
       " (11, 100.0),\n",
       " (12, 78.0)]"
      ]
     },
     "execution_count": 5,
     "metadata": {},
     "output_type": "execute_result"
    }
   ],
   "source": [
    "data"
   ]
  },
  {
   "cell_type": "markdown",
   "metadata": {},
   "source": [
    "Now we will sort the scores array in descending order as we want all the scores from high to low"
   ]
  },
  {
   "cell_type": "code",
   "execution_count": 6,
   "metadata": {},
   "outputs": [],
   "source": [
    "temp_scores = np.copy(scores)\n",
    "scores_in_order = sorted(temp_scores,reverse=True)"
   ]
  },
  {
   "cell_type": "code",
   "execution_count": 7,
   "metadata": {},
   "outputs": [
    {
     "data": {
      "text/plain": [
       "[100.0, 100.0, 90.0, 90.0, 90.0, 90.0, 88.0, 80.0, 80.0, 78.0, 78.0, 50.0]"
      ]
     },
     "execution_count": 7,
     "metadata": {},
     "output_type": "execute_result"
    }
   ],
   "source": [
    "scores_in_order "
   ]
  },
  {
   "cell_type": "markdown",
   "metadata": {},
   "source": [
    "Now we will calculate the final score we have recieved for our hard work in doing the assignments. But before that we need to find the best of 6 or best of 8 according to the length of our NPTEL course\n",
    "\n",
    "NPTEL 8 week courses require us to calculate best of 6 assignment scores whereas 12 weeks courses require best of 8 assignment scores"
   ]
  },
  {
   "cell_type": "code",
   "execution_count": 8,
   "metadata": {},
   "outputs": [],
   "source": [
    "avg = 0.0\n",
    "if len(scores_in_order) is 8:\n",
    "    best_of_6 = scores_in_order[:6]\n",
    "    avg = np.average(best_of_6)\n",
    "elif len(scores_in_order) is 12:\n",
    "    best_of_8 = scores_in_order[:8]\n",
    "    avg = np.average(best_of_8)"
   ]
  },
  {
   "cell_type": "markdown",
   "metadata": {},
   "source": [
    "To calculate 25% of average of the necessary assignments"
   ]
  },
  {
   "cell_type": "code",
   "execution_count": 9,
   "metadata": {},
   "outputs": [],
   "source": [
    "twentyFivePercent = (25/100)*avg"
   ]
  },
  {
   "cell_type": "markdown",
   "metadata": {},
   "source": [
    "### Therefore our final score for the nptel course is"
   ]
  },
  {
   "cell_type": "code",
   "execution_count": 10,
   "metadata": {},
   "outputs": [
    {
     "name": "stdout",
     "output_type": "stream",
     "text": [
      "Final assignment score on certificate is 22.75 out of 25\n"
     ]
    }
   ],
   "source": [
    "print('Final assignment score on certificate is {} out of 25'.format(twentyFivePercent))"
   ]
  },
  {
   "cell_type": "markdown",
   "metadata": {},
   "source": [
    "### Visalization of strong and weak areas weekwise.\n",
    "\n",
    "Now its time to plot some graphs and analyse our strong and weak areas based on weeks. First of all lets plot a bar chart to visualize our performance over the weeks. It will allow us to visually see in which weeks topics we are not scoring well"
   ]
  },
  {
   "cell_type": "code",
   "execution_count": 11,
   "metadata": {},
   "outputs": [
    {
     "data": {
      "image/png": "[encoded data removed]",
      "text/plain": [
       "<Figure size 432x288 with 1 Axes>"
      ]
     },
     "metadata": {
      "needs_background": "light"
     },
     "output_type": "display_data"
    },
    {
     "data": {
      "text/plain": [
       "<Figure size 432x288 with 0 Axes>"
      ]
     },
     "metadata": {},
     "output_type": "display_data"
    }
   ],
   "source": [
    "plt.bar(assignments,scores,align='center',alpha=0.5)\n",
    "plt.xticks(assignments)\n",
    "plt.xlabel('Week Number')\n",
    "plt.ylabel('Scores')\n",
    "plt.title('Weeks v/s Scores')\n",
    "plt.show()\n",
    "plt.clf()\n",
    "plt.gcf().clear()"
   ]
  },
  {
   "cell_type": "markdown",
   "metadata": {},
   "source": [
    "Let us see in which week assingnments we have scored really well by arranging the weeks and scores in descending order os scores"
   ]
  },
  {
   "cell_type": "code",
   "execution_count": 12,
   "metadata": {},
   "outputs": [],
   "source": [
    "import operator\n",
    "data.sort(key = operator.itemgetter(1),reverse = True)"
   ]
  },
  {
   "cell_type": "code",
   "execution_count": 13,
   "metadata": {},
   "outputs": [
    {
     "data": {
      "text/plain": [
       "[(7, 100.0),\n",
       " (11, 100.0),\n",
       " (1, 90.0),\n",
       " (3, 90.0),\n",
       " (6, 90.0),\n",
       " (8, 90.0),\n",
       " (9, 88.0),\n",
       " (2, 80.0),\n",
       " (4, 80.0),\n",
       " (10, 78.0),\n",
       " (12, 78.0),\n",
       " (5, 50.0)]"
      ]
     },
     "execution_count": 13,
     "metadata": {},
     "output_type": "execute_result"
    }
   ],
   "source": [
    "data"
   ]
  },
  {
   "cell_type": "code",
   "execution_count": 14,
   "metadata": {},
   "outputs": [],
   "source": [
    "assignments_sorted=[]\n",
    "scores_sorted=[]\n",
    "for i in data:\n",
    "    a,b=i\n",
    "    assignments_sorted.append(a)\n",
    "    scores_sorted.append(b)"
   ]
  },
  {
   "cell_type": "code",
   "execution_count": 15,
   "metadata": {},
   "outputs": [
    {
     "data": {
      "image/png": "[encoded data removed]",
      "text/plain": [
       "<Figure size 432x288 with 1 Axes>"
      ]
     },
     "metadata": {
      "needs_background": "light"
     },
     "output_type": "display_data"
    },
    {
     "data": {
      "text/plain": [
       "<Figure size 432x288 with 0 Axes>"
      ]
     },
     "metadata": {},
     "output_type": "display_data"
    }
   ],
   "source": [
    "plt.plot(assignments_sorted,scores_sorted)\n",
    "plt.xticks(assignments_sorted)\n",
    "plt.xlabel('Week Number')\n",
    "plt.ylabel('Scores')\n",
    "plt.title('Weeks v/s Scores')\n",
    "plt.show()\n",
    "plt.clf()"
   ]
  },
  {
   "cell_type": "markdown",
   "metadata": {},
   "source": [
    "Here is a pie chart representstion of our performance over the weeks in the NPTEL course assignments"
   ]
  },
  {
   "cell_type": "code",
   "execution_count": 16,
   "metadata": {},
   "outputs": [
    {
     "data": {
      "image/png": "[encoded data removed]",
      "text/plain": [
       "<Figure size 432x288 with 1 Axes>"
      ]
     },
     "metadata": {},
     "output_type": "display_data"
    }
   ],
   "source": [
    "pie_labels=[]\n",
    "for i in assignments.astype(int):\n",
    "    pie_labels.append('week '+str(i))\n",
    "    \n",
    "plt.pie(scores,labels=pie_labels,autopct='%.2f')\n",
    "plt.show()"
   ]
  },
  {
   "cell_type": "markdown",
   "metadata": {},
   "source": [
    "So now we should prepare for the exam keeping in mind our week as well as strong areas or topics based on weeks. We need to study more in our week areas."
   ]
  },
  {
   "cell_type": "code",
   "execution_count": null,
   "metadata": {},
   "outputs": [],
   "source": []
  }
 ],
 "metadata": {
  "kernelspec": {
   "display_name": "Python 3",
   "language": "python",
   "name": "python3"
  },
  "language_info": {
   "codemirror_mode": {
    "name": "ipython",
    "version": 3
   },
   "file_extension": ".py",
   "mimetype": "text/x-python",
   "name": "python",
   "nbconvert_exporter": "python",
   "pygments_lexer": "ipython3",
   "version": "3.7.1"
  }
 },
 "nbformat": 4,
 "nbformat_minor": 2
}
